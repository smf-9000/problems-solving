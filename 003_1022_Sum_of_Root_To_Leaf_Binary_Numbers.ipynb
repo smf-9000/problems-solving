{
  "nbformat": 4,
  "nbformat_minor": 0,
  "metadata": {
    "colab": {
      "name": "003. - 1022. Sum of Root To Leaf Binary Numbers.ipynb",
      "provenance": [],
      "collapsed_sections": [],
      "authorship_tag": "ABX9TyNYBdl+32pnJlWEfm27z7Tv",
      "include_colab_link": true
    },
    "kernelspec": {
      "name": "python3",
      "display_name": "Python 3"
    },
    "language_info": {
      "name": "python"
    }
  },
  "cells": [
    {
      "cell_type": "markdown",
      "metadata": {
        "id": "view-in-github",
        "colab_type": "text"
      },
      "source": [
        "<a href=\"https://colab.research.google.com/github/smf-9000/problems-solving/blob/main/003_1022_Sum_of_Root_To_Leaf_Binary_Numbers.ipynb\" target=\"_parent\"><img src=\"https://colab.research.google.com/assets/colab-badge.svg\" alt=\"Open In Colab\"/></a>"
      ]
    },
    {
      "cell_type": "markdown",
      "source": [
        "\n",
        "\n",
        "```\n",
        "https://leetcode.com/problems/sum-of-root-to-leaf-binary-numbers/\n",
        "```\n",
        "\n"
      ],
      "metadata": {
        "id": "1CqA4jqHIEd8"
      }
    },
    {
      "cell_type": "markdown",
      "source": [
        "You are given the `root` of a binary tree where each node has a value `0` or `1`. Each root-to-leaf path represents a binary number starting with the most significant bit.\n",
        "\n",
        "For example, if the path is `0 -> 1 -> 1 -> 0 -> 1`, then this could represent `01101` in binary, which is `13`.\n",
        "For all leaves in the tree, consider the numbers represented by the path from the root to that leaf. Return the sum of these numbers.\n",
        "\n",
        "The test cases are generated so that the answer fits in a **32-bits** integer."
      ],
      "metadata": {
        "id": "btDl2j-ZILxh"
      }
    },
    {
      "cell_type": "markdown",
      "source": [
        "`One thought: Try to recognize when you \"hit the wall\" otherwise even simple problems can become difficult.`"
      ],
      "metadata": {
        "id": "MPpXNQqwL-H0"
      }
    },
    {
      "cell_type": "markdown",
      "source": [
        "<img src=\"https://assets.leetcode.com/uploads/2019/04/04/sum-of-root-to-leaf-binary-numbers.png\n",
        "\" alt=\"img of binary tree\" width=\"400\" height=\"250\">\n"
      ],
      "metadata": {
        "id": "mH7kp60iu4ZX"
      }
    },
    {
      "cell_type": "code",
      "execution_count": null,
      "metadata": {
        "id": "64JR5skhH5ao"
      },
      "outputs": [],
      "source": [
        "# Definition for a binary tree node.\n",
        "# class TreeNode:\n",
        "#     def __init__(self, val=0, left=None, right=None):\n",
        "#         self.val = val\n",
        "#         self.left = left\n",
        "#         self.right = right\n",
        "class Solution:\n",
        "    def sumRootToLeaf(self, root: Optional[TreeNode]) -> int:\n",
        "        \n",
        "        def rec(node, s):\n",
        "            if node.left or node.right:\n",
        "                a = 0\n",
        "                b = 0\n",
        "                if node.left:\n",
        "                    a = rec(node.left, node.left.val + s * 2)\n",
        "                if node.right:\n",
        "                    b = rec(node.right, node.right.val + s * 2)\n",
        "                return a + b\n",
        "            else:\n",
        "                return s\n",
        "        \n",
        "        r = rec(root, root.val)\n",
        "        return r"
      ]
    },
    {
      "cell_type": "markdown",
      "source": [
        "\n",
        "\n",
        "The procedure is simple. Every path from the root to the leaf represents one binary number. The root node represents the bit with the highest value.\n",
        "In the beginning, we have root and sum equal to roots value.\n",
        "\n",
        "Recursion call has as the first argument the current node's child and previous sum times two plus child's value as the second argument. With this in mind, we can see that for every binary path we choose, we multiply every previous node value with two for that binary path.\n",
        "\n",
        "In this way, every node that has leaves associated with it participates in the result with a specific power of two for every leaf.\n",
        "\n"
      ],
      "metadata": {
        "id": "0mnA3rmrDZMd"
      }
    }
  ]
}