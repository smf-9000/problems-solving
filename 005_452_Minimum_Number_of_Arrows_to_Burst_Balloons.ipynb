{
  "nbformat": 4,
  "nbformat_minor": 0,
  "metadata": {
    "colab": {
      "name": "005. - 452. Minimum Number of Arrows to Burst Balloons.ipynb",
      "provenance": [],
      "authorship_tag": "ABX9TyMo9zkrb4OKeNyJCnxJj9Cm",
      "include_colab_link": true
    },
    "kernelspec": {
      "name": "python3",
      "display_name": "Python 3"
    },
    "language_info": {
      "name": "python"
    }
  },
  "cells": [
    {
      "cell_type": "markdown",
      "metadata": {
        "id": "view-in-github",
        "colab_type": "text"
      },
      "source": [
        "<a href=\"https://colab.research.google.com/github/smf-9000/problems-solving/blob/main/005_452_Minimum_Number_of_Arrows_to_Burst_Balloons.ipynb\" target=\"_parent\"><img src=\"https://colab.research.google.com/assets/colab-badge.svg\" alt=\"Open In Colab\"/></a>"
      ]
    },
    {
      "cell_type": "markdown",
      "source": [
        "\n",
        "\n",
        "```\n",
        "https://leetcode.com/problems/minimum-number-of-arrows-to-burst-balloons/\n",
        "```\n",
        "\n"
      ],
      "metadata": {
        "id": "3HdxC8zvsCoO"
      }
    },
    {
      "cell_type": "markdown",
      "source": [
        "There are some spherical balloons taped onto a flat wall that represents the XY-plane. The balloons are represented as a 2D integer array `points` where `points[i] = [xstart, xend]` denotes a balloon whose `horizontal diameter` stretches between `xstart` and `xend`. You do not know the exact y-coordinates of the balloons.\n",
        "\n",
        "Arrows can be shot up **directly vertically** (in the positive y-direction) from different points along the x-axis. A balloon with `xstart` and `xend` is **burst** by an arrow shot at `x` if `xstart <= x <= xend`. There is **no limit** to the number of arrows that can be shot. A shot arrow keeps traveling up infinitely, bursting any balloons in its path.\n",
        "\n",
        "Given the array `points`, return *the **minimum** number of arrows that must be shot to burst all balloons*."
      ],
      "metadata": {
        "id": "Y1Mg6HU5sZW_"
      }
    },
    {
      "cell_type": "markdown",
      "source": [
        "\n",
        "\n",
        "```\n",
        "Every ballon has to be shot by an arrow. We need to manage that every single arrow takes as many balloons as it can.\n",
        "```\n",
        "\n"
      ],
      "metadata": {
        "id": "4oTybGvZuNaX"
      }
    },
    {
      "cell_type": "code",
      "execution_count": null,
      "metadata": {
        "id": "DNyR9GjOr-U9"
      },
      "outputs": [],
      "source": [
        "import operator\n",
        "\n",
        "class Solution:\n",
        "    def findMinArrowShots(self, points: List[List[int]]) -> int:\n",
        "        P = points\n",
        "        P.sort(key=operator.itemgetter(1))\n",
        "\n",
        "        count = 1\n",
        "        arrow_position = P[0][1]\n",
        "        for i in range(len(P)):\n",
        "            if P[i][0] > arrow_position:\n",
        "                count += 1\n",
        "                arrow_position = P[i][1]\n",
        "        return count"
      ]
    },
    {
      "cell_type": "markdown",
      "source": [
        "```\n",
        "At first look, it seems that we miss counting very wide balloons above or below the current one.\n",
        "It's just an illusion because they will be counted later without spending arrows on them (picture below).\n",
        "```"
      ],
      "metadata": {
        "id": "C37L33ggtiPg"
      }
    },
    {
      "cell_type": "markdown",
      "source": [
        "<center><img src=\"https://raw.githubusercontent.com/smf-9000/problems-solving/main/img/leet%20452-1.jpg\" alt=\"img\" width=\"450\" height=\"250\"></center>\n"
      ],
      "metadata": {
        "id": "pDdOdiYnuwoK"
      }
    }
  ]
}