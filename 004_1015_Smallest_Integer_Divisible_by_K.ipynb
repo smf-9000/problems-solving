{
  "nbformat": 4,
  "nbformat_minor": 0,
  "metadata": {
    "colab": {
      "name": "004. - 1015. Smallest Integer Divisible by K.ipynb",
      "provenance": [],
      "collapsed_sections": [],
      "authorship_tag": "ABX9TyP6qQIcwU3jVeGOV1VUIL93",
      "include_colab_link": true
    },
    "kernelspec": {
      "name": "python3",
      "display_name": "Python 3"
    },
    "language_info": {
      "name": "python"
    }
  },
  "cells": [
    {
      "cell_type": "markdown",
      "metadata": {
        "id": "view-in-github",
        "colab_type": "text"
      },
      "source": [
        "<a href=\"https://colab.research.google.com/github/smf-9000/problems-solving/blob/main/004_1015_Smallest_Integer_Divisible_by_K.ipynb\" target=\"_parent\"><img src=\"https://colab.research.google.com/assets/colab-badge.svg\" alt=\"Open In Colab\"/></a>"
      ]
    },
    {
      "cell_type": "markdown",
      "source": [
        "\n",
        "\n",
        "```\n",
        "https://leetcode.com/problems/smallest-integer-divisible-by-k/\n",
        "```\n",
        "\n"
      ],
      "metadata": {
        "id": "iaedByww_slP"
      }
    },
    {
      "cell_type": "markdown",
      "source": [
        "Given a positive integer `k`, you need to find the **length** of the **smallest** positive integer `n` such that `n` is divisible by `k`, and `n` only contains the digit `1`.\n",
        "\n",
        "Return the **length** of **n**. If there is no such `n`, return `-1`.\n",
        "\n",
        "**Note:** n may not fit in a 64-bit signed integer."
      ],
      "metadata": {
        "id": "dMOtcTvK_2A6"
      }
    },
    {
      "cell_type": "markdown",
      "source": [
        "\n",
        "\n",
        "`\n",
        "Interesting info: we can pile in python pretty big numbers, way beyond 64 bit. Besides that, we do not want to use this feature of python for this problem.\n",
        "`\n",
        "\n"
      ],
      "metadata": {
        "id": "AxXbuSVe_9Ge"
      }
    },
    {
      "cell_type": "code",
      "source": [
        "class Solution:\n",
        "    def smallestRepunitDivByK(self, k: int) -> int:\n",
        "        if k % 2 == 0 or k % 5 == 0:\n",
        "            return -1\n",
        "        M = {}\n",
        "        n = 0\n",
        "        l = 1\n",
        "        while True:\n",
        "            n = (n * 10 + 1) % k\n",
        "            if n in M:\n",
        "                return -1\n",
        "            M[n] = True\n",
        "            if n == 0:\n",
        "                return l\n",
        "            l += 1\n",
        "        return -1"
      ],
      "metadata": {
        "id": "xDzPWDI__91q"
      },
      "execution_count": null,
      "outputs": []
    },
    {
      "cell_type": "markdown",
      "source": [
        "As description seas, we need to find a number that contained only digit `1`, which is divisible with `k`.\n",
        "\n",
        "If we try a brute-force solution, we will end up with a question when to stop trying bigger and bigger numbers.\n",
        "\n",
        "Idea:\n",
        "we need to try if 1 is divisible with k. if the answer is negative we need to continue concatenating 1s, and continue trying divisibility. But, when to end if answers are all negative?\n",
        "\n",
        "The answer is not clear on first look.\n",
        "Look process of concatenation:\n",
        "\n",
        "```\n",
        "1\n",
        "11\n",
        "111\n",
        "1111\n",
        "11111\n",
        "```\n",
        "\n",
        "remainder operator `%` returns the remainder of dividing the left-hand operand by right-hand operand. But, it has some useful identities. For example:\n",
        "`111 % k = ((11 % k) * 10 + 1 % k) % k`\n",
        "I hope it is clear that is for our purpose the same if we store `11` or product of expression `11 % k` for the next try. WHY? Because we can every expression `111... % k` break down in the chain as we have on the right side of the equal sign above. This is a recursive process and because of that, we need only to save the previous remainder for the next iteration.\n",
        "As we concluded that for our purpose is only remainder matters, if we encounter the same remainder twice that would be a sign to break searching and return `-1` (we didn't find the required number), otherwise we ended up in an infinity loop.\n",
        "Max remainder is `k-1`"
      ],
      "metadata": {
        "id": "m5KC2SE0Dh2x"
      }
    }
  ]
}