{
  "nbformat": 4,
  "nbformat_minor": 0,
  "metadata": {
    "colab": {
      "name": "002TheSquare-SumProblem-Numberphile.ipynb",
      "provenance": [],
      "authorship_tag": "ABX9TyPfr2o2Xrb81iHwKDPBGvbt",
      "include_colab_link": true
    },
    "kernelspec": {
      "name": "python3",
      "display_name": "Python 3"
    },
    "language_info": {
      "name": "python"
    }
  },
  "cells": [
    {
      "cell_type": "markdown",
      "metadata": {
        "id": "view-in-github",
        "colab_type": "text"
      },
      "source": [
        "<a href=\"https://colab.research.google.com/github/smf-9000/problems-solving/blob/main/002TheSquare_SumProblem_Numberphile.ipynb\" target=\"_parent\"><img src=\"https://colab.research.google.com/assets/colab-badge.svg\" alt=\"Open In Colab\"/></a>"
      ]
    },
    {
      "cell_type": "markdown",
      "metadata": {
        "id": "E6U1IdLnQD2D"
      },
      "source": [
        "[![IMAGE ALT TEXT](http://img.youtube.com/vi/G1m7goLCJDY/0.jpg)](http://www.youtube.com/watch?v=G1m7goLCJDY \"Video Title\")"
      ]
    },
    {
      "cell_type": "code",
      "metadata": {
        "colab": {
          "base_uri": "https://localhost:8080/",
          "height": 336
        },
        "id": "b9_2gJLpuBOb",
        "outputId": "2b1f6737-2d25-4adc-c575-1bf395240346"
      },
      "source": [
        "from IPython.display import HTML\n",
        "\n",
        "HTML('<iframe width=\"560\" height=\"315\" src=\"https://www.youtube.com/embed/G1m7goLCJDY\" frameborder=\"0\" allow=\"accelerometer; autoplay; encrypted-media; gyroscope; picture-in-picture\" allowfullscreen></iframe>')"
      ],
      "execution_count": 1,
      "outputs": [
        {
          "output_type": "execute_result",
          "data": {
            "text/html": [
              "<iframe width=\"560\" height=\"315\" src=\"https://www.youtube.com/embed/G1m7goLCJDY\" frameborder=\"0\" allow=\"accelerometer; autoplay; encrypted-media; gyroscope; picture-in-picture\" allowfullscreen></iframe>"
            ],
            "text/plain": [
              "<IPython.core.display.HTML object>"
            ]
          },
          "metadata": {
            "tags": []
          },
          "execution_count": 1
        }
      ]
    },
    {
      "cell_type": "markdown",
      "metadata": {
        "id": "1_JvjvdktHs6"
      },
      "source": [
        "\n",
        "\n",
        "```\n",
        "please open the console in browser to see the output\n",
        "also, this is the first time that I'm using js in colab, so, it works :)\n",
        "```\n",
        "\n",
        "\n"
      ]
    },
    {
      "cell_type": "code",
      "metadata": {
        "colab": {
          "base_uri": "https://localhost:8080/",
          "height": 17
        },
        "id": "tr8n3peAq3tV",
        "outputId": "88ba8e2d-5c7d-4b21-bf16-40c16636fe77"
      },
      "source": [
        "%%javascript \n",
        "\n",
        "function square_sums_row(n, bl = 1){\n",
        "  if([2, 3, 4, 5, 6, 7, 8, 9, 10, 11, 12, 13, 14, 18, 19, 20, 21, 22, 24].includes(n)) return false;\n",
        "  let max = Math.floor((2 * n)**(1/2))**2, B = Array(n + 1).fill(false), A = [];\n",
        "  for(let i = 1; i <= n; i++){\n",
        "    A[i] = [i, []];\n",
        "    for(let j = 1; j*j <= max; j++){\n",
        "      if(!A[i][1].includes(j*j - i) && j*j - i !== i && j*j - i <= n && j*j - i > 0){ A[i][1].push(j*j - i); }\n",
        "    }\n",
        "  }\n",
        "  let tmp_sort = A.slice(1).sort((a, b) => a[1].length - b[1].length);  // A[0] is undefined \n",
        "  let R = [], S = [tmp_sort[0][0]];\n",
        "  while(S.length > 0){\n",
        "    let c = S[0];\n",
        "    if(!B[c]){\n",
        "      R.unshift(c);\n",
        "      B[c] = true;\n",
        "    }\n",
        "    if(R.length === n) { return R; }\n",
        "    let AA = A[c][1].filter(e => !B[e]).map(e => [e, A[e][1].reduce((a1, b1) => a1 + (!B[b1] ? 1 : 0), 0)]).sort((a, b) => a[1] - b[1]);\n",
        "    let tmp = AA[0] ? AA[0][1] : Infinity;\n",
        "    for(let i = AA.length - 1; i >= 0; i--){ if(AA[i][1] - tmp < bl) S.unshift(AA[i][0]); }\n",
        "    if(S[0] === c){\n",
        "      while(S.length > 0){\n",
        "        if(!B[S[0]]){ break; }\n",
        "        if(R[0] === S[0]){\n",
        "          R.shift();\n",
        "          B[S[0]] = false;\n",
        "        } \n",
        "        S.shift();\n",
        "      } \n",
        "    }\n",
        "  }\n",
        "  return square_sums_row(n, bl + 1);\n",
        "}\n",
        "\n",
        "res = square_sums_row(5000)\n",
        "console.log(res)"
      ],
      "execution_count": 2,
      "outputs": [
        {
          "output_type": "display_data",
          "data": {
            "application/javascript": [
              "\n",
              "function square_sums_row(n, bl = 1){\n",
              "  if([2, 3, 4, 5, 6, 7, 8, 9, 10, 11, 12, 13, 14, 18, 19, 20, 21, 22, 24].includes(n)) return false;\n",
              "  let max = Math.floor((2 * n)**(1/2))**2, B = Array(n + 1).fill(false), A = [];\n",
              "  for(let i = 1; i <= n; i++){\n",
              "    A[i] = [i, []];\n",
              "    for(let j = 1; j*j <= max; j++){\n",
              "      if(!A[i][1].includes(j*j - i) && j*j - i !== i && j*j - i <= n && j*j - i > 0){ A[i][1].push(j*j - i); }\n",
              "    }\n",
              "  }\n",
              "  let tmp_sort = A.slice(1).sort((a, b) => a[1].length - b[1].length);  // A[0] is undefined \n",
              "  let R = [], S = [tmp_sort[0][0]];\n",
              "  while(S.length > 0){\n",
              "    let c = S[0];\n",
              "    if(!B[c]){\n",
              "      R.unshift(c);\n",
              "      B[c] = true;\n",
              "    }\n",
              "    if(R.length === n) { return R; }\n",
              "    let AA = A[c][1].filter(e => !B[e]).map(e => [e, A[e][1].reduce((a1, b1) => a1 + (!B[b1] ? 1 : 0), 0)]).sort((a, b) => a[1] - b[1]);\n",
              "    let tmp = AA[0] ? AA[0][1] : Infinity;\n",
              "    for(let i = AA.length - 1; i >= 0; i--){ if(AA[i][1] - tmp < bl) S.unshift(AA[i][0]); }\n",
              "    if(S[0] === c){\n",
              "      while(S.length > 0){\n",
              "        if(!B[S[0]]){ break; }\n",
              "        if(R[0] === S[0]){\n",
              "          R.shift();\n",
              "          B[S[0]] = false;\n",
              "        } \n",
              "        S.shift();\n",
              "      } \n",
              "    }\n",
              "  }\n",
              "  return square_sums_row(n, bl + 1);\n",
              "}\n",
              "\n",
              "res = square_sums_row(5000)\n",
              "console.log(res)"
            ],
            "text/plain": [
              "<IPython.core.display.Javascript object>"
            ]
          },
          "metadata": {
            "tags": []
          }
        }
      ]
    }
  ]
}