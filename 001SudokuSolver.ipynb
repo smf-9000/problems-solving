{
  "nbformat": 4,
  "nbformat_minor": 0,
  "metadata": {
    "colab": {
      "name": "001SudokuSolver.ipynb",
      "provenance": [],
      "collapsed_sections": [],
      "authorship_tag": "ABX9TyMind2/vZVDoUhww3/1T8g1",
      "include_colab_link": true
    },
    "kernelspec": {
      "name": "python3",
      "display_name": "Python 3"
    },
    "language_info": {
      "name": "python"
    }
  },
  "cells": [
    {
      "cell_type": "markdown",
      "metadata": {
        "id": "view-in-github",
        "colab_type": "text"
      },
      "source": [
        "<a href=\"https://colab.research.google.com/github/smf-9000/problems-solving/blob/main/001SudokuSolver.ipynb\" target=\"_parent\"><img src=\"https://colab.research.google.com/assets/colab-badge.svg\" alt=\"Open In Colab\"/></a>"
      ]
    },
    {
      "cell_type": "code",
      "metadata": {
        "colab": {
          "base_uri": "https://localhost:8080/"
        },
        "id": "bCQykyacd2-U",
        "outputId": "b4354ce3-3cbe-408b-f690-c464553a8dcb"
      },
      "source": [
        "import copy\n",
        "\n",
        "board = [[\".\",\".\",\".\",\"2\",\".\",\".\",\".\",\"6\",\"3\"],\n",
        "         [\"3\",\".\",\".\",\".\",\".\",\"5\",\"4\",\".\",\"1\"],\n",
        "         [\".\",\".\",\"1\",\".\",\".\",\"3\",\"9\",\"8\",\".\"],\n",
        "         [\".\",\".\",\".\",\".\",\".\",\".\",\".\",\"9\",\".\"],\n",
        "         [\".\",\".\",\".\",\"5\",\"3\",\"8\",\".\",\".\",\".\"],\n",
        "         [\".\",\"3\",\".\",\".\",\".\",\".\",\".\",\".\",\".\"],\n",
        "         [\".\",\"2\",\"6\",\"3\",\".\",\".\",\"5\",\".\",\".\"],\n",
        "         [\"5\",\".\",\"3\",\"7\",\".\",\".\",\".\",\".\",\"8\"],\n",
        "         [\"4\",\"7\",\".\",\".\",\".\",\"1\",\".\",\".\",\".\"]]\n",
        "\n",
        "lines = []\n",
        "result = []\n",
        "def solveSudoku(board):\n",
        "  global lines\n",
        "  global result\n",
        "  B = copy.deepcopy(board)\n",
        "  if len(lines) == 0:\n",
        "    lines = []\n",
        "    # rows\n",
        "    rows = [[(r, c) for c in range(9)] for r in range(9)]\n",
        "    lines.extend(rows)\n",
        "    # columns\n",
        "    columns = [[(r, c) for r in range(9)] for c in range(9)]\n",
        "    lines.extend(columns)\n",
        "    # regions\n",
        "    regions = []\n",
        "    for _c in [0, 3, 6]:\n",
        "      for _r in [0, 3, 6]:\n",
        "        regions.append([(r, c) for r in range(_r, _r+3) for c in range(_c, _c+3)])\n",
        "    lines.extend(regions)\n",
        "    # print(lines)\n",
        "    \n",
        "    for r in range(9):\n",
        "      for c in range(9):\n",
        "        if B[r][c] == '.':\n",
        "          B[r][c] = [1,1,1,1,1,1,1,1,1]\n",
        "        else:\n",
        "          tmp = str(B[r][c])\n",
        "          B[r][c] = [0,0,0,0,0,0,0,0,0]\n",
        "          B[r][c][int(tmp) - 1] = 1\n",
        "  \n",
        "  rec(B)\n",
        "  for r in range(9):\n",
        "    for c in range(9):\n",
        "      B[r][c] = str(result[r][c].index(1) + 1)\n",
        "    print(B[r])\n",
        "            \n",
        "def rec(B):\n",
        "  test = True\n",
        "  while test:\n",
        "    test = False\n",
        "    for line in lines:\n",
        "      for r, c in line:\n",
        "        if sum(B[r][c]) == 1:\n",
        "          indx = B[r][c].index(1)\n",
        "          for ro, co in line:\n",
        "            le = sum(B[ro][co])\n",
        "            if (r != ro or c != co) and B[ro][co][indx] != 0:\n",
        "              B[ro][co][indx] = 0\n",
        "              if 1 not in B[ro][co]:\n",
        "                return False\n",
        "              test = True\n",
        "                                \n",
        "  if sum([B[i][j][k] for i in range(9) for j in range(9) for k in range(9)]) == 81:\n",
        "    return is_solved(B)\n",
        "  for line in lines:\n",
        "    for r, c in line:\n",
        "      for n in range(2, 5):\n",
        "        test = False\n",
        "        if sum(B[r][c]) == n:\n",
        "          test = True\n",
        "          tmp = B[r][c]\n",
        "          M = copy.deepcopy(B)\n",
        "          for idx, num in enumerate(tmp):\n",
        "            if num != 0:\n",
        "              B[r][c] = [1 if i == idx else 0 for i in range(9)]\n",
        "              end = rec(B)\n",
        "              if not end:\n",
        "                B = copy.deepcopy(M)\n",
        "              else:\n",
        "                return True\n",
        "        if test:\n",
        "          return False\n",
        "\n",
        "def is_solved(B):\n",
        "  global result\n",
        "  for line in lines:\n",
        "    if len([B[r][c].index(1) for r, c in line]) != len(set([B[r][c].index(1) for r, c in line])):\n",
        "      return False\n",
        "  result = copy.deepcopy(B)\n",
        "  return True\n",
        "\n",
        "solveSudoku(board)"
      ],
      "execution_count": 20,
      "outputs": [
        {
          "output_type": "stream",
          "text": [
            "['8', '5', '4', '2', '1', '9', '7', '6', '3']\n",
            "['3', '9', '7', '8', '6', '5', '4', '2', '1']\n",
            "['2', '6', '1', '4', '7', '3', '9', '8', '5']\n",
            "['7', '8', '5', '1', '2', '6', '3', '9', '4']\n",
            "['6', '4', '9', '5', '3', '8', '1', '7', '2']\n",
            "['1', '3', '2', '9', '4', '7', '8', '5', '6']\n",
            "['9', '2', '6', '3', '8', '4', '5', '1', '7']\n",
            "['5', '1', '3', '7', '9', '2', '6', '4', '8']\n",
            "['4', '7', '8', '6', '5', '1', '2', '3', '9']\n"
          ],
          "name": "stdout"
        }
      ]
    }
  ]
}